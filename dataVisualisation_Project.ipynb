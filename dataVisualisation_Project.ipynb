{
  "nbformat": 4,
  "nbformat_minor": 0,
  "metadata": {
    "colab": {
      "provenance": [],
      "authorship_tag": "ABX9TyN4uPcHdXN+vdCe/asnw92g",
      "include_colab_link": true
    },
    "kernelspec": {
      "name": "python3",
      "display_name": "Python 3"
    },
    "language_info": {
      "name": "python"
    }
  },
  "cells": [
    {
      "cell_type": "markdown",
      "metadata": {
        "id": "view-in-github",
        "colab_type": "text"
      },
      "source": [
        "<a href=\"https://colab.research.google.com/github/YgZINTJ/STAT3011_project/blob/main/dataVisualisation_Project.ipynb\" target=\"_parent\"><img src=\"https://colab.research.google.com/assets/colab-badge.svg\" alt=\"Open In Colab\"/></a>"
      ]
    },
    {
      "cell_type": "code",
      "source": [
        "# @title Packages\n",
        "import pandas as pd\n",
        "import matplotlib as plt\n",
        "import seaborn as sns\n",
        "import numpy as np"
      ],
      "metadata": {
        "cellView": "form",
        "id": "I4YHC6QC8WGz"
      },
      "execution_count": 3,
      "outputs": []
    },
    {
      "cell_type": "code",
      "source": [
        "# @title Downloading datasheet\n",
        "data_url = 'https://raw.githubusercontent.com/YgZINTJ/STAT3011_project/refs/heads/main/StudentPerformanceFactors.csv'\n",
        "df = pd.read_csv(data_url)"
      ],
      "metadata": {
        "cellView": "form",
        "id": "Jz148UvK8c4y"
      },
      "execution_count": 4,
      "outputs": []
    },
    {
      "cell_type": "code",
      "source": [
        "categorical_columns = [col for col in df.columns if df[col].dtype=='object']\n",
        "categorical_columns"
      ],
      "metadata": {
        "colab": {
          "base_uri": "https://localhost:8080/"
        },
        "id": "fIQHxcyT942h",
        "outputId": "db5a4e43-f92a-47f3-d5dc-2e6c14f8c3a7"
      },
      "execution_count": 10,
      "outputs": [
        {
          "output_type": "execute_result",
          "data": {
            "text/plain": [
              "['Parental_Involvement',\n",
              " 'Access_to_Resources',\n",
              " 'Extracurricular_Activities',\n",
              " 'Motivation_Level',\n",
              " 'Internet_Access',\n",
              " 'Family_Income',\n",
              " 'Teacher_Quality',\n",
              " 'School_Type',\n",
              " 'Peer_Influence',\n",
              " 'Learning_Disabilities',\n",
              " 'Parental_Education_Level',\n",
              " 'Distance_from_Home',\n",
              " 'Gender']"
            ]
          },
          "metadata": {},
          "execution_count": 10
        }
      ]
    }
  ]
}